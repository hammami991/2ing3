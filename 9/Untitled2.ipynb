{
 "cells": [
  {
   "cell_type": "code",
   "execution_count": 22,
   "id": "f4c286b3",
   "metadata": {},
   "outputs": [
    {
     "data": {
      "application/vnd.jupyter.widget-view+json": {
       "model_id": "efefa241e46e4481b17b471d55022719",
       "version_major": 2,
       "version_minor": 0
      },
      "text/plain": [
       "HBox(children=(VBox(children=(Button(description='correct', style=ButtonStyle()),)), VBox(children=(Button(des…"
      ]
     },
     "metadata": {},
     "output_type": "display_data"
    }
   ],
   "source": [
    "from ipywidgets import Button, HBox, VBox\n",
    "\n",
    "words = ['correct', 'horse']\n",
    "items = [Button(description=w) for w in words]\n",
    "left_box = VBox([items[0]])\n",
    "right_box = VBox([items[1]])\n",
    "HBox([left_box, right_box])"
   ]
  },
  {
   "cell_type": "code",
   "execution_count": 21,
   "id": "a8721113",
   "metadata": {},
   "outputs": [
    {
     "name": "stdout",
     "output_type": "stream",
     "text": [
      "VBox(children=(Button(description='correct', style=ButtonStyle()),))\n"
     ]
    }
   ],
   "source": [
    "print(left_box)"
   ]
  },
  {
   "cell_type": "code",
   "execution_count": 23,
   "id": "2b3096b3",
   "metadata": {},
   "outputs": [
    {
     "name": "stdout",
     "output_type": "stream",
     "text": [
      "VBox(children=(Button(description='horse', style=ButtonStyle()),))\n"
     ]
    }
   ],
   "source": [
    "print(right_box)"
   ]
  },
  {
   "cell_type": "code",
   "execution_count": null,
   "id": "eb81f927",
   "metadata": {},
   "outputs": [],
   "source": []
  }
 ],
 "metadata": {
  "kernelspec": {
   "display_name": "Python 3 (ipykernel)",
   "language": "python",
   "name": "python3"
  },
  "language_info": {
   "codemirror_mode": {
    "name": "ipython",
    "version": 3
   },
   "file_extension": ".py",
   "mimetype": "text/x-python",
   "name": "python",
   "nbconvert_exporter": "python",
   "pygments_lexer": "ipython3",
   "version": "3.9.7"
  }
 },
 "nbformat": 4,
 "nbformat_minor": 5
}
