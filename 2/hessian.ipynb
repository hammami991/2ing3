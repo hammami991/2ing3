{
 "cells": [
  {
   "cell_type": "code",
   "execution_count": 19,
   "id": "890745cb",
   "metadata": {},
   "outputs": [
    {
     "data": {
      "text/plain": [
       "array([[[[ 0,  0,  0],\n",
       "         [ 0,  0,  0]],\n",
       "\n",
       "        [[-3,  0,  2],\n",
       "         [-3,  0,  2]]],\n",
       "\n",
       "\n",
       "       [[[-3,  0,  2],\n",
       "         [-3,  0,  2]],\n",
       "\n",
       "        [[ 0,  0,  0],\n",
       "         [ 2,  2,  2]]]])"
      ]
     },
     "execution_count": 19,
     "metadata": {},
     "output_type": "execute_result"
    }
   ],
   "source": [
    "import numpy as np\n",
    "\n",
    "def hessian(x):\n",
    "    \"\"\"\n",
    "    Calculate the hessian matrix with finite differences\n",
    "    Parameters:\n",
    "       - x : ndarray\n",
    "    Returns:\n",
    "       an array of shape (x.dim, x.ndim) + x.shape\n",
    "       where the array[i, j, ...] corresponds to the second derivative x_ij\n",
    "    \"\"\"\n",
    "    x_grad = np.gradient(x) \n",
    "    hessian = np.empty((x.ndim, x.ndim) + x.shape, dtype=x.dtype) \n",
    "    for k, grad_k in enumerate(x_grad):\n",
    "        # iterate over dimensions\n",
    "        # apply gradient again to every component of the first derivative.\n",
    "        tmp_grad = np.gradient(grad_k) \n",
    "        for l, grad_kl in enumerate(tmp_grad):\n",
    "            hessian[k, l, :, :] = grad_kl\n",
    "    return hessian\n",
    "\n",
    "#x = np.random.randn(2, 2)\n",
    "x = np.array( [[ 1, 2, 3],\n",
    "                 [ 4, 2, 5]] )\n",
    "hessian(x)"
   ]
  },
  {
   "cell_type": "code",
   "execution_count": 21,
   "id": "8f73fba4",
   "metadata": {},
   "outputs": [
    {
     "name": "stdout",
     "output_type": "stream",
     "text": [
      "[[1 2 3]\n",
      " [4 2 5]]\n"
     ]
    }
   ],
   "source": [
    "print (x)"
   ]
  },
  {
   "cell_type": "code",
   "execution_count": null,
   "id": "0ea7a5eb",
   "metadata": {},
   "outputs": [],
   "source": []
  }
 ],
 "metadata": {
  "kernelspec": {
   "display_name": "Python 3",
   "language": "python",
   "name": "python3"
  },
  "language_info": {
   "codemirror_mode": {
    "name": "ipython",
    "version": 3
   },
   "file_extension": ".py",
   "mimetype": "text/x-python",
   "name": "python",
   "nbconvert_exporter": "python",
   "pygments_lexer": "ipython3",
   "version": "3.6.13"
  }
 },
 "nbformat": 4,
 "nbformat_minor": 5
}
